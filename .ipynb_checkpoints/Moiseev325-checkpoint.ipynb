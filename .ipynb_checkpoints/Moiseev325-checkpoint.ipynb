{
 "cells": [
  {
   "cell_type": "code",
   "execution_count": null,
   "id": "6c050040-7d65-4083-8af1-5f6d6f8f2307",
   "metadata": {
    "tags": []
   },
   "outputs": [],
   "source": [
    "import numpy as np\n",
    "from math import *\n",
    "import matplotlib.pyplot as plt"
   ]
  },
  {
   "cell_type": "code",
   "execution_count": null,
   "id": "09238315-ba7b-4189-801f-75476960369b",
   "metadata": {
    "tags": []
   },
   "outputs": [],
   "source": [
    "def F(i,j):\n",
    "    return -exp(-u[i][j] ** 2)"
   ]
  },
  {
   "cell_type": "code",
   "execution_count": null,
   "id": "5f3c1c78-8026-4910-8ae4-994411ccd61d",
   "metadata": {
    "tags": []
   },
   "outputs": [],
   "source": [
    "H = 1000\n",
    "Tau = 2000\n",
    "eps = 10 ** (-5)\n",
    "h = 5/H\n",
    "tau = 10/Tau\n",
    "u = np.zeros(H * Tau).reshape(H, Tau)\n",
    "for x in range(H):\n",
    "    u[x][0] = sin(pi*(x*h)/2)\n",
    "for n in range(H-1):\n",
    "    for m in range(Tau-1): \n",
    "        un1 = u[n][m]\n",
    "        un2 = u[n][m] + 2*eps\n",
    "        while abs(un1 - un2) > eps:\n",
    "            f = (un2- u[n+1][m])/tau + (-exp(-un2**2) - F(n, m+1))/h\n",
    "            df = 1/tau + 2*un2*exp(-un2**2)/h\n",
    "            un1 = un2\n",
    "            un2 = un2 - f/df\n",
    "        u[n+1][m+1] = un2"
   ]
  },
  {
   "cell_type": "code",
   "execution_count": null,
   "id": "2abfd55a-e3f4-4ecb-b2c3-0f9f6f933871",
   "metadata": {
    "tags": []
   },
   "outputs": [],
   "source": [
    "import math\n",
    "import matplotlib.pyplot as plt\n",
    "import numpy as np\n",
    "\n",
    "\n",
    "x = np.arange(0, H)*h\n",
    "t = np.arange(0, Tau)*tau\n",
    "T, X = np.meshgrid(t, x)\n",
    "\n",
    "fig = plt.figure(figsize=(8, 100))\n",
    "\n",
    "ax = fig.add_subplot( projection = '3d')\n",
    "ax.plot_surface(X, T, u,cmap= 'plasma')\n",
    "ax.set_xlabel('X')\n",
    "ax.set_ylabel('T')\n",
    "ax.set_zlabel('U')\n",
    "\n",
    "fig = plt.figure(figsize=(10, 5))\n",
    "plt.contourf( t,x, u, cmap= 'plasma')\n",
    "plt.colorbar()\n",
    "plt.xlabel('T')\n",
    "plt.ylabel('X')\n",
    "plt.show()"
   ]
  },
  {
   "cell_type": "code",
   "execution_count": null,
   "id": "8247e636-81c4-4d03-9921-e8620bfe467a",
   "metadata": {
    "tags": []
   },
   "outputs": [],
   "source": [
    "fig = plt.figure(figsize=(10, 5))\n",
    "plt.contourf( t,x, u, cmap= 'plasma')\n",
    "plt.colorbar()\n",
    "plt.xlabel('T')\n",
    "plt.ylabel('X')\n",
    "plt.show()"
   ]
  },
  {
   "cell_type": "code",
   "execution_count": null,
   "id": "1af6f53b-415a-4aa2-95ad-2360a853f0e4",
   "metadata": {},
   "outputs": [],
   "source": []
  }
 ],
 "metadata": {
  "kernelspec": {
   "display_name": "Python 3 (ipykernel)",
   "language": "python",
   "name": "python3"
  },
  "language_info": {
   "codemirror_mode": {
    "name": "ipython",
    "version": 3
   },
   "file_extension": ".py",
   "mimetype": "text/x-python",
   "name": "python",
   "nbconvert_exporter": "python",
   "pygments_lexer": "ipython3",
   "version": "3.11.1"
  }
 },
 "nbformat": 4,
 "nbformat_minor": 5
}
